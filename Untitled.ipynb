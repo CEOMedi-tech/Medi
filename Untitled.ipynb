{
 "cells": [
  {
   "cell_type": "code",
   "execution_count": 2,
   "metadata": {},
   "outputs": [
    {
     "data": {
      "text/plain": [
       "tuple"
      ]
     },
     "execution_count": 2,
     "metadata": {},
     "output_type": "execute_result"
    }
   ],
   "source": [
    "#Discription of a tuple\n",
    "#Tuples are an ordred sequence \n",
    "#Tuples are written as COMMA-SEPRATED elements within ()\n",
    "\n",
    "tuple1 = (\"disco\", 10, 1.2)\n",
    "\n",
    "#Truple can include str, int, float in a () seprated by ,\n",
    "\n",
    "type(tuple1)\n",
    "\n"
   ]
  },
  {
   "cell_type": "code",
   "execution_count": null,
   "metadata": {},
   "outputs": [],
   "source": [
    "#Each element of a tuple can be accesed in the index\n",
    "#Each element can be accesed using a [#] of index\n",
    "\n",
    "Tuple1[0]:\"disco\"\n",
    "Tuple1[1]: 10\n",
    "Typle1[2]: 1.2\n",
    "\n"
   ]
  },
  {
   "cell_type": "code",
   "execution_count": 3,
   "metadata": {},
   "outputs": [],
   "source": [
    "#In Python, index can be negative numbers\n",
    "\n",
    "Tuple[-3]: \"disco\"\n",
    "Tuple[-2]: 10\n",
    "Tuple[-1]: 1.2\n"
   ]
  },
  {
   "cell_type": "code",
   "execution_count": 7,
   "metadata": {},
   "outputs": [
    {
     "name": "stdout",
     "output_type": "stream",
     "text": [
      "('disco', 10, 1.2, 'hard rock', 10)\n"
     ]
    }
   ],
   "source": [
    "#combine (concatnate) tuples by adding\n",
    "\n",
    "tuple2 = tuple1 + (\"hard rock\",10)\n",
    "\n",
    "print (tuple2)"
   ]
  },
  {
   "cell_type": "code",
   "execution_count": 23,
   "metadata": {},
   "outputs": [
    {
     "name": "stdout",
     "output_type": "stream",
     "text": [
      "('disco', 10, 1.2, 'Medi', 23)\n"
     ]
    }
   ],
   "source": [
    "#practice concatnating tuples \n",
    "\n",
    "tuple2 = tuple1 + (\"Medi\", 23)\n",
    "\n",
    "print(tuple2)"
   ]
  },
  {
   "cell_type": "code",
   "execution_count": 24,
   "metadata": {},
   "outputs": [
    {
     "data": {
      "text/plain": [
       "5"
      ]
     },
     "execution_count": 24,
     "metadata": {},
     "output_type": "execute_result"
    }
   ],
   "source": [
    "#find the length of these charcters\n",
    "\n",
    "len(tuple2)"
   ]
  },
  {
   "cell_type": "code",
   "execution_count": 25,
   "metadata": {},
   "outputs": [
    {
     "data": {
      "text/plain": [
       "('Medi', 23)"
      ]
     },
     "execution_count": 25,
     "metadata": {},
     "output_type": "execute_result"
    }
   ],
   "source": [
    "#print tuple1 slice ('Medi', 23)\n",
    "\n",
    "tuple2[3:5]"
   ]
  },
  {
   "cell_type": "code",
   "execution_count": 36,
   "metadata": {},
   "outputs": [
    {
     "name": "stdout",
     "output_type": "stream",
     "text": [
      "(10, 9, 6, 5, 10, 8, 9, 6, 2)\n"
     ]
    }
   ],
   "source": [
    "# tuples are immutable and CANT change them so RATE them\n",
    "\n",
    "Ratings = (10,9,6,5,10,8,9,6,2)\n",
    "\n",
    "Ratings1 = Ratings \n",
    "\n",
    "print(Ratings1)"
   ]
  },
  {
   "cell_type": "code",
   "execution_count": 37,
   "metadata": {},
   "outputs": [
    {
     "name": "stdout",
     "output_type": "stream",
     "text": [
      "[2, 5, 6, 6, 8, 9, 9, 10, 10]\n"
     ]
    }
   ],
   "source": [
    "#If you want to change them use SORT\n",
    "\n",
    "RatingsSorted = sorted(Ratings)\n",
    "\n",
    "print(RatingsSorted)"
   ]
  },
  {
   "cell_type": "code",
   "execution_count": 44,
   "metadata": {},
   "outputs": [
    {
     "name": "stdout",
     "output_type": "stream",
     "text": [
      "(1, 2, ('pop', 'rock'), (3, 4), 'disco', (1, 2))\n"
     ]
    }
   ],
   "source": [
    "#A tuple can also store multiple other tuples!\n",
    "#Good for COMPLEX date types\n",
    "\n",
    "NT = (1,2,(\"pop\", \"rock\"), (3,4), (\"disco\") , (1,2))\n",
    "\n",
    "\n",
    "print(NT)\n"
   ]
  },
  {
   "cell_type": "code",
   "execution_count": 46,
   "metadata": {},
   "outputs": [
    {
     "data": {
      "text/plain": [
       "6"
      ]
     },
     "execution_count": 46,
     "metadata": {},
     "output_type": "execute_result"
    }
   ],
   "source": [
    "#You can access these tuples by using index [#]\n",
    "\n",
    "#find length of NT\n",
    "len(NT)"
   ]
  },
  {
   "cell_type": "code",
   "execution_count": 47,
   "metadata": {},
   "outputs": [
    {
     "name": "stdout",
     "output_type": "stream",
     "text": [
      "((3, 4), 'disco', (1, 2))\n"
     ]
    }
   ],
   "source": [
    "#print slice \"((3,4), (\"disco\") , (1,2))\"\n",
    "\n",
    "print(NT[3:6])"
   ]
  },
  {
   "cell_type": "code",
   "execution_count": 65,
   "metadata": {},
   "outputs": [
    {
     "name": "stdout",
     "output_type": "stream",
     "text": [
      "d\n"
     ]
    }
   ],
   "source": [
    "#print slice \"D\" from \"DISCO\"\n",
    "\n",
    "print(NT[4][0])"
   ]
  },
  {
   "cell_type": "code",
   "execution_count": 68,
   "metadata": {},
   "outputs": [
    {
     "name": "stdout",
     "output_type": "stream",
     "text": [
      "disco\n"
     ]
    }
   ],
   "source": [
    "#print slice disco from NT\n",
    "\n",
    "print(NT[4])"
   ]
  },
  {
   "cell_type": "code",
   "execution_count": 70,
   "metadata": {},
   "outputs": [
    {
     "data": {
      "text/plain": [
       "4"
      ]
     },
     "execution_count": 70,
     "metadata": {},
     "output_type": "execute_result"
    }
   ],
   "source": [
    "# Lists (L) contain str, int, floats in [] seprated by ,\n",
    "\n",
    "L = [\"Ahmed Mahmoud\", \" AAI Consolidated Inc\", 2014, 25,]\n",
    "\n",
    "#find the length of the list\n",
    "\n",
    "len(L)\n"
   ]
  },
  {
   "cell_type": "code",
   "execution_count": 71,
   "metadata": {},
   "outputs": [
    {
     "name": "stdout",
     "output_type": "stream",
     "text": [
      "['Ahmed Mahmoud', ' AAI Consolidated Inc', 2014]\n"
     ]
    }
   ],
   "source": [
    "#you can slice LISTS \n",
    "\n",
    "print(L[0:3])"
   ]
  },
  {
   "cell_type": "code",
   "execution_count": 74,
   "metadata": {},
   "outputs": [
    {
     "name": "stdout",
     "output_type": "stream",
     "text": [
      " AAI CONSOLIDATED INC\n"
     ]
    }
   ],
   "source": [
    "#capital 'AAI Consolidated Inc' in the List\n",
    "\n",
    "print(L[1].upper())"
   ]
  },
  {
   "cell_type": "code",
   "execution_count": 77,
   "metadata": {},
   "outputs": [
    {
     "name": "stdout",
     "output_type": "stream",
     "text": [
      "AHMED MAHMOUD\n"
     ]
    }
   ],
   "source": [
    "#capitalize both 'Ahmed Mahmoud' & 'AAI Consolidated Inc'\n",
    "\n",
    "print(L[0].upper())"
   ]
  },
  {
   "cell_type": "code",
   "execution_count": 79,
   "metadata": {},
   "outputs": [
    {
     "name": "stdout",
     "output_type": "stream",
     "text": [
      "['Ahmed Mahmoud', ' AAI Consolidated Inc', 2014, 25, ' start of business']\n"
     ]
    }
   ],
   "source": [
    "#you can combine lists my combine them with []\n",
    "\n",
    "L1 = L + [\" start of business\"]\n",
    "\n",
    "print(L1)"
   ]
  },
  {
   "cell_type": "code",
   "execution_count": 88,
   "metadata": {},
   "outputs": [
    {
     "name": "stdout",
     "output_type": "stream",
     "text": [
      "['Ahmed Mahmoud', ' AAI Consolidated Inc', 2014, 25, 'R', 'o', 'l', 'l', 's', ' ', 'R', 'o', 'y', 'c', 'e', ' ', 'P', 'h', 'a', 'n', 't', 'o', 'm', 'R', 'o', 'l', 'l', 's', ',', 'R', 'o', 'y', 'c', 'e', ',', 'P', 'h', 'a', 'n', 't', 'o', 'm', 'R', 'o', 'l', 'l', 's', 'R', 'o', 'y', 'c', 'e', 'P', 'h', 'a', 'n', 't', 'o', 'm', 'R', 'o', 'l', 'l', 's', ' ', 'R', 'o', 'y', 'c', 'e', ' ', 'P', 'h', 'a', 'n', 't', 'o', 'm', 'Rolls Royce Phantom', 'Rolls Royce Phantom', 'Ferrari California', 2020, 'Ferrari California', 2020]\n"
     ]
    }
   ],
   "source": [
    "#you can add to exsists list by 2 elements using .extend([])\n",
    "\n",
    "L.extend([\"Ferrari California\", 2020])\n",
    "\n",
    "print(L)"
   ]
  },
  {
   "cell_type": "code",
   "execution_count": 89,
   "metadata": {},
   "outputs": [
    {
     "name": "stdout",
     "output_type": "stream",
     "text": [
      "['Ahmed Mahmoud', ' AAI Consolidated Inc', 2014, 25, 'R', 'o', 'l', 'l', 's', ' ', 'R', 'o', 'y', 'c', 'e', ' ', 'P', 'h', 'a', 'n', 't', 'o', 'm', 'R', 'o', 'l', 'l', 's', ',', 'R', 'o', 'y', 'c', 'e', ',', 'P', 'h', 'a', 'n', 't', 'o', 'm', 'R', 'o', 'l', 'l', 's', 'R', 'o', 'y', 'c', 'e', 'P', 'h', 'a', 'n', 't', 'o', 'm', 'R', 'o', 'l', 'l', 's', ' ', 'R', 'o', 'y', 'c', 'e', ' ', 'P', 'h', 'a', 'n', 't', 'o', 'm', 'Rolls Royce Phantom', 'Rolls Royce Phantom', 'Ferrari California', 2020, 'Ferrari California', 2020, ['the best of the best']]\n"
     ]
    }
   ],
   "source": [
    "#using .apend([])  adds ONE element to the List\n",
    "\n",
    "L.append([\"the best of the best\"])\n",
    "\n",
    "print(L)"
   ]
  },
  {
   "cell_type": "code",
   "execution_count": 92,
   "metadata": {},
   "outputs": [
    {
     "name": "stdout",
     "output_type": "stream",
     "text": [
      "[2020, 'Ferrari', 2020, 'Rolls Royce']\n"
     ]
    }
   ],
   "source": [
    "#you can change each index in the list\n",
    "\n",
    "car_list=[2020, \"Ferrari\", 2020, \"Rolls Royce\"]\n",
    "\n",
    "print(car_list)\n",
    "\n"
   ]
  },
  {
   "cell_type": "code",
   "execution_count": 93,
   "metadata": {},
   "outputs": [
    {
     "data": {
      "text/plain": [
       "4"
      ]
     },
     "execution_count": 93,
     "metadata": {},
     "output_type": "execute_result"
    }
   ],
   "source": [
    "#find the length of car_list\n",
    "\n",
    "len(car_list)"
   ]
  },
  {
   "cell_type": "code",
   "execution_count": 95,
   "metadata": {},
   "outputs": [
    {
     "name": "stdout",
     "output_type": "stream",
     "text": [
      "[2020, 'Mercedes', 2020, 'Rolls Royce']\n"
     ]
    }
   ],
   "source": [
    "#change the element 1 to \"Mercedes\"\n",
    "\n",
    "car_list[1] = \"Mercedes\"\n",
    "\n",
    "#print full list\n",
    "\n",
    "print(car_list)"
   ]
  },
  {
   "cell_type": "code",
   "execution_count": 96,
   "metadata": {},
   "outputs": [
    {
     "name": "stdout",
     "output_type": "stream",
     "text": [
      "[2020, 27, 'Yacht', 'g5 jet', 'WE2020', 'Motionloft', 'MCC']\n"
     ]
    }
   ],
   "source": [
    "#practice changing and adding elemnts in lists/strings/int/floats\n",
    "\n",
    "lux_listDubai = [2020, 27, \"Yacht\" ,\"g5 jet\", \"WE2020\" ]\n",
    "\n",
    "#extending list of lux_listDubai\n",
    "\n",
    "lux_listDubai.extend([\"Motionloft\", \"MCC\"])\n",
    "\n",
    "#confirm current lux_listDubai\n",
    "\n",
    "print(lux_listDubai)\n",
    "\n"
   ]
  },
  {
   "cell_type": "code",
   "execution_count": 97,
   "metadata": {},
   "outputs": [
    {
     "data": {
      "text/plain": [
       "7"
      ]
     },
     "execution_count": 97,
     "metadata": {},
     "output_type": "execute_result"
    }
   ],
   "source": [
    "#Idnetify index # for \"g5 jet\" and change it to \"global express\"\n",
    "#identify length \n",
    "\n",
    "len(lux_listDubai)"
   ]
  },
  {
   "cell_type": "code",
   "execution_count": 98,
   "metadata": {},
   "outputs": [
    {
     "name": "stdout",
     "output_type": "stream",
     "text": [
      "g5 jet\n"
     ]
    }
   ],
   "source": [
    "#confirm index # for \"g5 jet\"\n",
    "\n",
    "print(lux_listDubai[3])"
   ]
  },
  {
   "cell_type": "code",
   "execution_count": 99,
   "metadata": {},
   "outputs": [
    {
     "name": "stdout",
     "output_type": "stream",
     "text": [
      "Global Express\n"
     ]
    }
   ],
   "source": [
    "#change \"g5 jet\" to \"global express\"\n",
    "\n",
    "lux_listDubai[3] = \"Global Express\"\n",
    "\n",
    "#confrim change \n",
    "#print\n",
    "\n",
    "print(lux_listDubai[3])"
   ]
  },
  {
   "cell_type": "code",
   "execution_count": 100,
   "metadata": {},
   "outputs": [
    {
     "name": "stdout",
     "output_type": "stream",
     "text": [
      "[2020, 27, 'Yacht', 'Global Express', 'WE2020', 'Motionloft', 'MCC']\n"
     ]
    }
   ],
   "source": [
    "#print new list\n",
    "print(lux_listDubai)"
   ]
  },
  {
   "cell_type": "code",
   "execution_count": 103,
   "metadata": {},
   "outputs": [
    {
     "name": "stdout",
     "output_type": "stream",
     "text": [
      "[2020, 27, 'Yacht', 'Global Express', 'WE2020', 'Motionloft', 'MCC', ['year of the century'], ['year of the century']]\n"
     ]
    }
   ],
   "source": [
    "#append lux_listDubai and add \"year of the century\"\n",
    "\n",
    "lux_listDubai.append([\"year of the century\"])\n",
    "\n",
    "#confirm append\n",
    "#print\n",
    "\n",
    "print(lux_listDubai)"
   ]
  },
  {
   "cell_type": "code",
   "execution_count": 104,
   "metadata": {},
   "outputs": [
    {
     "data": {
      "text/plain": [
       "9"
      ]
     },
     "execution_count": 104,
     "metadata": {},
     "output_type": "execute_result"
    }
   ],
   "source": [
    "#delete an element from the list us del command\n",
    "#find length of new list\n",
    "\n",
    "len(lux_listDubai)"
   ]
  },
  {
   "cell_type": "code",
   "execution_count": 112,
   "metadata": {},
   "outputs": [
    {
     "name": "stdout",
     "output_type": "stream",
     "text": [
      "[2020, 27, 'Yacht', 'Global Express', 'Motionloft']\n"
     ]
    }
   ],
   "source": [
    "#use del command to delete \"year of the century\"\n",
    "\n",
    "del(lux_listDubai[5])\n",
    "\n",
    "print(lux_listDubai)"
   ]
  },
  {
   "cell_type": "code",
   "execution_count": 113,
   "metadata": {},
   "outputs": [
    {
     "name": "stdout",
     "output_type": "stream",
     "text": [
      "[2020, 27, 'Yacht', 'Global Express', 'Motionloft', 2020, 'historical year']\n"
     ]
    }
   ],
   "source": [
    "#extend the element and add \"2020\" \"historical year\"\n",
    "\n",
    "lux_listDubai.extend([2020, \"historical year\"])\n",
    "\n",
    "#confirm extension\n",
    "#print\n",
    "\n",
    "print(lux_listDubai)"
   ]
  },
  {
   "cell_type": "code",
   "execution_count": 123,
   "metadata": {},
   "outputs": [
    {
     "data": {
      "text/plain": [
       "['Global', 'Express']"
      ]
     },
     "execution_count": 123,
     "metadata": {},
     "output_type": "execute_result"
    }
   ],
   "source": [
    "#use .split to split elements; split \"Global Express\"\n",
    "\n",
    "\"Global Express\".split()\n",
    "\n",
    "#confrim split\n",
    "#print\n",
    " \n"
   ]
  },
  {
   "cell_type": "code",
   "execution_count": 125,
   "metadata": {},
   "outputs": [
    {
     "name": "stdout",
     "output_type": "stream",
     "text": [
      "[2020, 27, 'Yacht', 'Global Express', 'Motionloft', 2020, 'historical year']\n"
     ]
    }
   ],
   "source": [
    "#Aliasing is another name for the same list\n",
    "#this is a good way for copying same lists\n",
    "\n",
    "lux_listUSA = lux_listDubai\n",
    "\n",
    "#confirm new list is the same value\n",
    "#print\n",
    "\n",
    "print(lux_listUSA)"
   ]
  },
  {
   "cell_type": "code",
   "execution_count": 126,
   "metadata": {},
   "outputs": [
    {
     "name": "stdout",
     "output_type": "stream",
     "text": [
      "[2020, 27, 'Yacht', 'Global Express', 'Motionloft', 2020, 'historical year']\n"
     ]
    }
   ],
   "source": [
    "#if you change a value in lux_listDubai it will change \n",
    "#in lux_listUSA\n",
    "#in order to clone lux_listDubai use [:]\n",
    "\n",
    "lux_listUSA = lux_listDubai[:]\n",
    "\n",
    "#confrim list\n",
    "#print\n",
    "\n",
    "print(lux_listUSA)\n"
   ]
  },
  {
   "cell_type": "code",
   "execution_count": 128,
   "metadata": {},
   "outputs": [
    {
     "name": "stdout",
     "output_type": "stream",
     "text": [
      "[2020, 27, 'Yacht', 'Global Express', 2020, 'historical year']\n"
     ]
    }
   ],
   "source": [
    "#confirm clones by deleting an element in lux_listDubai\n",
    "\n",
    "del(lux_listDubai[4])\n",
    "\n",
    "#confrim deletion\n",
    "#print\n",
    "\n",
    "print(lux_listDubai)"
   ]
  },
  {
   "cell_type": "code",
   "execution_count": 130,
   "metadata": {},
   "outputs": [
    {
     "name": "stdout",
     "output_type": "stream",
     "text": [
      "[2020, 27, 'Yacht', 'Global Express', 'Motionloft', 2020, 'historical year']\n"
     ]
    }
   ],
   "source": [
    "#confrim lux_listUSA did not change\n",
    "#print\n",
    "\n",
    "print(lux_listUSA)"
   ]
  },
  {
   "cell_type": "code",
   "execution_count": 136,
   "metadata": {},
   "outputs": [
    {
     "data": {
      "text/plain": [
       "2"
      ]
     },
     "execution_count": 136,
     "metadata": {},
     "output_type": "execute_result"
    }
   ],
   "source": [
    "#to find the index number of a list or tuple use .index\n",
    "\n",
    "lux_listDubai.index(\"Yacht\")\n",
    "\n"
   ]
  },
  {
   "cell_type": "code",
   "execution_count": 132,
   "metadata": {},
   "outputs": [
    {
     "name": "stdout",
     "output_type": "stream",
     "text": [
      "Help on list object:\n",
      "\n",
      "class list(object)\n",
      " |  list() -> new empty list\n",
      " |  list(iterable) -> new list initialized from iterable's items\n",
      " |  \n",
      " |  Methods defined here:\n",
      " |  \n",
      " |  __add__(self, value, /)\n",
      " |      Return self+value.\n",
      " |  \n",
      " |  __contains__(self, key, /)\n",
      " |      Return key in self.\n",
      " |  \n",
      " |  __delitem__(self, key, /)\n",
      " |      Delete self[key].\n",
      " |  \n",
      " |  __eq__(self, value, /)\n",
      " |      Return self==value.\n",
      " |  \n",
      " |  __ge__(self, value, /)\n",
      " |      Return self>=value.\n",
      " |  \n",
      " |  __getattribute__(self, name, /)\n",
      " |      Return getattr(self, name).\n",
      " |  \n",
      " |  __getitem__(...)\n",
      " |      x.__getitem__(y) <==> x[y]\n",
      " |  \n",
      " |  __gt__(self, value, /)\n",
      " |      Return self>value.\n",
      " |  \n",
      " |  __iadd__(self, value, /)\n",
      " |      Implement self+=value.\n",
      " |  \n",
      " |  __imul__(self, value, /)\n",
      " |      Implement self*=value.\n",
      " |  \n",
      " |  __init__(self, /, *args, **kwargs)\n",
      " |      Initialize self.  See help(type(self)) for accurate signature.\n",
      " |  \n",
      " |  __iter__(self, /)\n",
      " |      Implement iter(self).\n",
      " |  \n",
      " |  __le__(self, value, /)\n",
      " |      Return self<=value.\n",
      " |  \n",
      " |  __len__(self, /)\n",
      " |      Return len(self).\n",
      " |  \n",
      " |  __lt__(self, value, /)\n",
      " |      Return self<value.\n",
      " |  \n",
      " |  __mul__(self, value, /)\n",
      " |      Return self*value.\n",
      " |  \n",
      " |  __ne__(self, value, /)\n",
      " |      Return self!=value.\n",
      " |  \n",
      " |  __new__(*args, **kwargs) from builtins.type\n",
      " |      Create and return a new object.  See help(type) for accurate signature.\n",
      " |  \n",
      " |  __repr__(self, /)\n",
      " |      Return repr(self).\n",
      " |  \n",
      " |  __reversed__(...)\n",
      " |      L.__reversed__() -- return a reverse iterator over the list\n",
      " |  \n",
      " |  __rmul__(self, value, /)\n",
      " |      Return value*self.\n",
      " |  \n",
      " |  __setitem__(self, key, value, /)\n",
      " |      Set self[key] to value.\n",
      " |  \n",
      " |  __sizeof__(...)\n",
      " |      L.__sizeof__() -- size of L in memory, in bytes\n",
      " |  \n",
      " |  append(...)\n",
      " |      L.append(object) -> None -- append object to end\n",
      " |  \n",
      " |  clear(...)\n",
      " |      L.clear() -> None -- remove all items from L\n",
      " |  \n",
      " |  copy(...)\n",
      " |      L.copy() -> list -- a shallow copy of L\n",
      " |  \n",
      " |  count(...)\n",
      " |      L.count(value) -> integer -- return number of occurrences of value\n",
      " |  \n",
      " |  extend(...)\n",
      " |      L.extend(iterable) -> None -- extend list by appending elements from the iterable\n",
      " |  \n",
      " |  index(...)\n",
      " |      L.index(value, [start, [stop]]) -> integer -- return first index of value.\n",
      " |      Raises ValueError if the value is not present.\n",
      " |  \n",
      " |  insert(...)\n",
      " |      L.insert(index, object) -- insert object before index\n",
      " |  \n",
      " |  pop(...)\n",
      " |      L.pop([index]) -> item -- remove and return item at index (default last).\n",
      " |      Raises IndexError if list is empty or index is out of range.\n",
      " |  \n",
      " |  remove(...)\n",
      " |      L.remove(value) -> None -- remove first occurrence of value.\n",
      " |      Raises ValueError if the value is not present.\n",
      " |  \n",
      " |  reverse(...)\n",
      " |      L.reverse() -- reverse *IN PLACE*\n",
      " |  \n",
      " |  sort(...)\n",
      " |      L.sort(key=None, reverse=False) -> None -- stable sort *IN PLACE*\n",
      " |  \n",
      " |  ----------------------------------------------------------------------\n",
      " |  Data and other attributes defined here:\n",
      " |  \n",
      " |  __hash__ = None\n",
      "\n"
     ]
    }
   ],
   "source": [
    "#to learn more about typles & lists using help()\n",
    "\n",
    "help(lux_listDubai)"
   ]
  },
  {
   "cell_type": "code",
   "execution_count": 135,
   "metadata": {},
   "outputs": [
    {
     "name": "stdout",
     "output_type": "stream",
     "text": [
      "['b', 'c']\n"
     ]
    }
   ],
   "source": [
    "#test\n",
    "\n",
    "B = [\"a\", \"b\", \"c\"]\n",
    "\n",
    "print(B[1:])"
   ]
  },
  {
   "cell_type": "code",
   "execution_count": 139,
   "metadata": {},
   "outputs": [
    {
     "name": "stdout",
     "output_type": "stream",
     "text": [
      "{'trap', 'country', 'soul', 'rock', 'rap'}\n"
     ]
    }
   ],
   "source": [
    "#Sets are types of collection\n",
    "#sets are collections of different types of python types\n",
    "#sets are unordered\n",
    "#sets have only one unique element\n",
    "#sets are used with {}\n",
    "\n",
    "Set1= {'rock', 'trap','country','soul', 'rap', 'rock'}\n",
    "\n",
    "#print to confirm set\n",
    "print(Set1)\n"
   ]
  },
  {
   "cell_type": "code",
   "execution_count": 145,
   "metadata": {},
   "outputs": [
    {
     "name": "stdout",
     "output_type": "stream",
     "text": [
      "{2000, 2002, 'Get Rich or Die Tryin', 'Power of Dollar'}\n"
     ]
    }
   ],
   "source": [
    "#you can convert lists to sets using function set() typecasting\n",
    "#identify list\n",
    "\n",
    "alub_list = [\"Get Rich or Die Tryin\", \"Power of Dollar\", \"Get Rich or Die Tryin\", 2000, 2002]\n",
    "\n",
    "#use set()\n",
    "\n",
    "album_set = set(alub_list)\n",
    "\n",
    "#print album_set\n",
    "\n",
    "print(album_set)\n"
   ]
  },
  {
   "cell_type": "code",
   "execution_count": 150,
   "metadata": {},
   "outputs": [
    {
     "name": "stdout",
     "output_type": "stream",
     "text": [
      "{'NYSYC', 2000, 2002, 'Get Rich or Die Tryin', 'Power of Dollar'}\n"
     ]
    }
   ],
   "source": [
    "#Set Operations can be used to change the set\n",
    "\n",
    "ablum_set = {\"thriller\", \"Back in Black\", \"AC/DC\"}\n",
    "\n",
    "#you can add item to a set using .add()\n",
    "\n",
    "album_set.add(\"NYSYC\")\n",
    "\n",
    "#print new set\n",
    "\n",
    "print(album_set)"
   ]
  },
  {
   "cell_type": "code",
   "execution_count": 151,
   "metadata": {},
   "outputs": [
    {
     "name": "stdout",
     "output_type": "stream",
     "text": [
      "{'NYSYC', 2000, 2002, 'Power of Dollar'}\n"
     ]
    }
   ],
   "source": [
    "#you can also remove sets by using .remove()\n",
    "#remove \"Get Rich or Die Trying\" from set\n",
    "\n",
    "album_set.remove(\"Get Rich or Die Tryin\")\n",
    "\n",
    "#print set to confrim deletion\n",
    "\n",
    "print(album_set)"
   ]
  },
  {
   "cell_type": "code",
   "execution_count": null,
   "metadata": {},
   "outputs": [],
   "source": [
    "#if you add the same item it won't change anything!"
   ]
  },
  {
   "cell_type": "code",
   "execution_count": 157,
   "metadata": {},
   "outputs": [
    {
     "data": {
      "text/plain": [
       "True"
      ]
     },
     "execution_count": 157,
     "metadata": {},
     "output_type": "execute_result"
    }
   ],
   "source": [
    "#you can confrim an item in a set by using \"in\" in between\n",
    "#answers will be True or False\n",
    "\n",
    "\"Power of Dollar\" in album_set\n"
   ]
  },
  {
   "cell_type": "code",
   "execution_count": 169,
   "metadata": {},
   "outputs": [
    {
     "name": "stdout",
     "output_type": "stream",
     "text": [
      "{'Rolls Royce'}\n"
     ]
    }
   ],
   "source": [
    "#there are many mathemtical operations that can be done with sets\n",
    "\n",
    "car_set_1 = {\"Rolls Royce\", \"Ferrari\", \"Bentley\"}\n",
    "\n",
    "car_set_2 = {\"Rolls Royce\",\"Maybach\", \"BMW\", \"Range Rover\"}\n",
    "\n",
    "#overlap represents the new set\n",
    "#define the union of the sets as & between 2 sets\n",
    "#new set will create whats only in BOTH sets\n",
    "\n",
    "car_set_3 = car_set_1 & car_set_2\n",
    "\n",
    "#print new set\n",
    "\n",
    "print(car_set_3)"
   ]
  },
  {
   "cell_type": "code",
   "execution_count": 171,
   "metadata": {},
   "outputs": [
    {
     "name": "stdout",
     "output_type": "stream",
     "text": [
      "{'BMW', 'Rolls Royce', 'Range Rover', 'Maybach', 'Ferrari', 'Bentley'}\n"
     ]
    }
   ],
   "source": [
    "#combine 2 sets together and create a new one use .union()\n",
    "\n",
    "total_cars = car_set_1.union(car_set_2)\n",
    "\n",
    "#print new set\n",
    "\n",
    "print(total_cars)\n"
   ]
  },
  {
   "cell_type": "code",
   "execution_count": 172,
   "metadata": {},
   "outputs": [
    {
     "data": {
      "text/plain": [
       "False"
      ]
     },
     "execution_count": 172,
     "metadata": {},
     "output_type": "execute_result"
    }
   ],
   "source": [
    "#figure out if a set is a sub-set by .issubset()\n",
    "\n",
    "total_cars.issubset(car_set_1)"
   ]
  },
  {
   "cell_type": "code",
   "execution_count": 173,
   "metadata": {},
   "outputs": [
    {
     "data": {
      "text/plain": [
       "False"
      ]
     },
     "execution_count": 173,
     "metadata": {},
     "output_type": "execute_result"
    }
   ],
   "source": [
    "total_cars.issubset(car_set_3)"
   ]
  },
  {
   "cell_type": "code",
   "execution_count": 174,
   "metadata": {},
   "outputs": [
    {
     "data": {
      "text/plain": [
       "True"
      ]
     },
     "execution_count": 174,
     "metadata": {},
     "output_type": "execute_result"
    }
   ],
   "source": [
    "car_set_2.issubset(total_cars)"
   ]
  },
  {
   "cell_type": "code",
   "execution_count": 1,
   "metadata": {},
   "outputs": [
    {
     "name": "stdout",
     "output_type": "stream",
     "text": [
      "2020\n"
     ]
    }
   ],
   "source": [
    "#dictionaries are a type of collection in python\n",
    "#like lists Index/Elemnet, dictionaries has Key/Values\n",
    "#to create a dictionary creat {}\n",
    "#keys have to be immutable and unique\n",
    "#values can be immutable, mutable, duplicates\n",
    "#each key and value pair is sperate by como\n",
    "\n",
    "\n",
    "cars_Dubai = {\"Lamborghini\": 2020, \"Rolls Royce\":2020, \"Range Rover\": 2020}\n",
    "\n",
    "#print year for \"Lamborghini\"\n",
    "\n",
    "print(cars_Dubai[\"Lamborghini\"])\n",
    "\n"
   ]
  },
  {
   "cell_type": "code",
   "execution_count": 2,
   "metadata": {},
   "outputs": [
    {
     "name": "stdout",
     "output_type": "stream",
     "text": [
      "2020\n"
     ]
    }
   ],
   "source": [
    "#you can add another key with value in the same variable\n",
    "\n",
    "cars_Dubai[\"Mercedes Maybach\"] = \"2020\"\n",
    "\n",
    "#confrim addtion of new key/value\n",
    "print(cars_Dubai[\"Mercedes Maybach\"])"
   ]
  },
  {
   "cell_type": "code",
   "execution_count": 7,
   "metadata": {},
   "outputs": [
    {
     "name": "stdout",
     "output_type": "stream",
     "text": [
      "{'Lamborghini': 2020, 'Rolls Royce': 2020, 'Range Rover': 2020, 'Mercedes Maybach': '2020'}\n"
     ]
    }
   ],
   "source": [
    "#print full dictionary of cars_Dubai\n",
    "print(cars_Dubai)"
   ]
  },
  {
   "cell_type": "code",
   "execution_count": 14,
   "metadata": {},
   "outputs": [
    {
     "name": "stdout",
     "output_type": "stream",
     "text": [
      "{'Lamborghini': 2020, 'Mercedes Maybach': '2020'}\n"
     ]
    }
   ],
   "source": [
    "#you can also del a key/value by using del\n",
    "\n",
    "del(cars_Dubai[\"Range Rover\"])\n",
    "\n",
    "#confrim deletion\n",
    "\n",
    "print(cars_Dubai)"
   ]
  },
  {
   "cell_type": "code",
   "execution_count": 17,
   "metadata": {},
   "outputs": [
    {
     "name": "stdout",
     "output_type": "stream",
     "text": [
      "{'Lamborghini': 2020, 'Mercedes Maybach': '2020', 'Rolls Royce': '2020'}\n"
     ]
    }
   ],
   "source": [
    "#add 2020 Rolls Royce in the dictionary\n",
    "\n",
    "cars_Dubai[\"Rolls Royce\"] = \"2020\"\n",
    "\n",
    "#confrim additon\n",
    "\n",
    "print(cars_Dubai)"
   ]
  },
  {
   "cell_type": "code",
   "execution_count": 18,
   "metadata": {},
   "outputs": [
    {
     "data": {
      "text/plain": [
       "True"
      ]
     },
     "execution_count": 18,
     "metadata": {},
     "output_type": "execute_result"
    }
   ],
   "source": [
    "#you can find out if a key is in the dictionary using in\n",
    "\n",
    "\"Mercedes Maybach\" in cars_Dubai"
   ]
  },
  {
   "cell_type": "code",
   "execution_count": 19,
   "metadata": {},
   "outputs": [
    {
     "data": {
      "text/plain": [
       "False"
      ]
     },
     "execution_count": 19,
     "metadata": {},
     "output_type": "execute_result"
    }
   ],
   "source": [
    "#practice finding keys\n",
    "\n",
    "\"Ferrari\" in cars_Dubai"
   ]
  },
  {
   "cell_type": "code",
   "execution_count": 21,
   "metadata": {},
   "outputs": [
    {
     "data": {
      "text/plain": [
       "dict_keys(['Lamborghini', 'Mercedes Maybach', 'Rolls Royce'])"
      ]
     },
     "execution_count": 21,
     "metadata": {},
     "output_type": "execute_result"
    }
   ],
   "source": [
    "#to get all keys in the dictionary .keys()\n",
    "\n",
    "cars_Dubai.keys()"
   ]
  },
  {
   "cell_type": "code",
   "execution_count": 23,
   "metadata": {},
   "outputs": [
    {
     "data": {
      "text/plain": [
       "dict_values([2020, '2020', '2020'])"
      ]
     },
     "execution_count": 23,
     "metadata": {},
     "output_type": "execute_result"
    }
   ],
   "source": [
    "#you can get values the same way .values()\n",
    "\n",
    "cars_Dubai.values()"
   ]
  },
  {
   "cell_type": "code",
   "execution_count": 24,
   "metadata": {},
   "outputs": [
    {
     "data": {
      "text/plain": [
       "dict_values([0, 1, 2])"
      ]
     },
     "execution_count": 24,
     "metadata": {},
     "output_type": "execute_result"
    }
   ],
   "source": [
    "#lab questions\n",
    "\n",
    "D={\"a\":0,\"b\":1,\"c\":2}\n",
    "\n",
    "D.values()"
   ]
  },
  {
   "cell_type": "code",
   "execution_count": 25,
   "metadata": {},
   "outputs": [
    {
     "data": {
      "text/plain": [
       "1"
      ]
     },
     "execution_count": 25,
     "metadata": {},
     "output_type": "execute_result"
    }
   ],
   "source": [
    "D[\"b\"]"
   ]
  },
  {
   "cell_type": "code",
   "execution_count": 30,
   "metadata": {},
   "outputs": [
    {
     "data": {
      "text/plain": [
       "'a'"
      ]
     },
     "execution_count": 30,
     "metadata": {},
     "output_type": "execute_result"
    }
   ],
   "source": [
    "#REWVIEW\n",
    "\n",
    "#What is the syntax to obtain the first element of the tuple:\n",
    "#first element is always 0\n",
    "\n",
    "A=('a','b','c')\n",
    "A[0]\n",
    "\n"
   ]
  },
  {
   "cell_type": "code",
   "execution_count": 31,
   "metadata": {},
   "outputs": [],
   "source": [
    "#REVIEW\n",
    "\n",
    "#After applying the following methond, L.append(['a','b'])\n",
    "#The following list will only be one element longer\n",
    "#TRUE"
   ]
  },
  {
   "cell_type": "code",
   "execution_count": 34,
   "metadata": {},
   "outputs": [
    {
     "name": "stdout",
     "output_type": "stream",
     "text": [
      "[4, 4, 4]\n"
     ]
    }
   ],
   "source": [
    "#REVIEW\n",
    "\n",
    "Dict={\"A\":1,\"B\":2,\"C\":[3,3,3],\"D\":[4,4,4,],\"E\":5,\"F\":6}\n",
    "\n",
    "print(Dict[\"D\"])"
   ]
  },
  {
   "cell_type": "code",
   "execution_count": 35,
   "metadata": {},
   "outputs": [
    {
     "data": {
      "text/plain": [
       "False"
      ]
     },
     "execution_count": 35,
     "metadata": {},
     "output_type": "execute_result"
    }
   ],
   "source": [
    "#Condtions & Branching\n",
    "#Coparsion Operators compare some value or operand\n",
    "#after some condtions the produc a boolean (T/F)\n",
    "\n",
    "a=6\n",
    "\n",
    "a==7\n"
   ]
  },
  {
   "cell_type": "code",
   "execution_count": 36,
   "metadata": {},
   "outputs": [
    {
     "data": {
      "text/plain": [
       "True"
      ]
     },
     "execution_count": 36,
     "metadata": {},
     "output_type": "execute_result"
    }
   ],
   "source": [
    "a==6"
   ]
  },
  {
   "cell_type": "code",
   "execution_count": 38,
   "metadata": {},
   "outputs": [
    {
     "data": {
      "text/plain": [
       "True"
      ]
     },
     "execution_count": 38,
     "metadata": {},
     "output_type": "execute_result"
    }
   ],
   "source": [
    "i=6\n",
    "\n",
    "i>5\n",
    "\n",
    "\n"
   ]
  },
  {
   "cell_type": "code",
   "execution_count": 39,
   "metadata": {},
   "outputs": [
    {
     "data": {
      "text/plain": [
       "False"
      ]
     },
     "execution_count": 39,
     "metadata": {},
     "output_type": "execute_result"
    }
   ],
   "source": [
    "i = 2\n",
    "i > 6"
   ]
  },
  {
   "cell_type": "code",
   "execution_count": 40,
   "metadata": {},
   "outputs": [
    {
     "data": {
      "text/plain": [
       "True"
      ]
     },
     "execution_count": 40,
     "metadata": {},
     "output_type": "execute_result"
    }
   ],
   "source": [
    "#The inequalty set is used by ! before the = \n",
    "#practice\n",
    "\n",
    "i=2\n",
    "\n",
    "1!=6"
   ]
  },
  {
   "cell_type": "code",
   "execution_count": 41,
   "metadata": {},
   "outputs": [
    {
     "data": {
      "text/plain": [
       "True"
      ]
     },
     "execution_count": 41,
     "metadata": {},
     "output_type": "execute_result"
    }
   ],
   "source": [
    "#You can also compare strings\n",
    "\n",
    "\"AC/DC\"==\"AC/DC\""
   ]
  },
  {
   "cell_type": "code",
   "execution_count": 42,
   "metadata": {},
   "outputs": [
    {
     "data": {
      "text/plain": [
       "False"
      ]
     },
     "execution_count": 42,
     "metadata": {},
     "output_type": "execute_result"
    }
   ],
   "source": [
    "\"AC/DC\"==\"Michael Jackson\""
   ]
  },
  {
   "cell_type": "code",
   "execution_count": 43,
   "metadata": {},
   "outputs": [
    {
     "data": {
      "text/plain": [
       "True"
      ]
     },
     "execution_count": 43,
     "metadata": {},
     "output_type": "execute_result"
    }
   ],
   "source": [
    "\"AC/DC\"!=\"Michal Jackson\""
   ]
  },
  {
   "cell_type": "code",
   "execution_count": 54,
   "metadata": {},
   "outputs": [
    {
     "name": "stdout",
     "output_type": "stream",
     "text": [
      "you can enter\n"
     ]
    }
   ],
   "source": [
    "#Branching alows running different statments for different inputs\n",
    "#IF statement\n",
    "#If the statment is true, it will pass through\n",
    "#If the statement is false, it will not go through\n",
    "\n",
    "age=19\n",
    "\n",
    "if(age>18):\n",
    "    print(\"you can enter\")\n",
    "if(age<18):    \n",
    "    print(\"move on\")\n",
    "\n"
   ]
  },
  {
   "cell_type": "code",
   "execution_count": 56,
   "metadata": {},
   "outputs": [
    {
     "name": "stdout",
     "output_type": "stream",
     "text": [
      "go to the Meat loaf\n"
     ]
    }
   ],
   "source": [
    "#The else statement will run another block of code\n",
    "\n",
    "age = 17\n",
    "\n",
    "if(age>18):\n",
    "    print(\"you can enter\")\n",
    "else:\n",
    "    print(\"go to the Meat loaf\")\n"
   ]
  },
  {
   "cell_type": "code",
   "execution_count": 62,
   "metadata": {},
   "outputs": [
    {
     "name": "stdout",
     "output_type": "stream",
     "text": [
      "Access Granted\n"
     ]
    }
   ],
   "source": [
    "#practice\n",
    "\n",
    "license = \"L56A45\"\n",
    "\n",
    "if(license!= \"L56A45\"):\n",
    "    print (\"Access Denied\")\n",
    "else:\n",
    "    print(\"Access Granted\")\n",
    "    \n"
   ]
  },
  {
   "cell_type": "code",
   "execution_count": 78,
   "metadata": {},
   "outputs": [
    {
     "name": "stdout",
     "output_type": "stream",
     "text": [
      "go see Pink Floyed\n",
      "move on\n"
     ]
    }
   ],
   "source": [
    "#elif statement is short for \"else if\"\n",
    "#alows us to check for different condtions if false\n",
    "\n",
    "age = 18\n",
    "\n",
    "if(age>18):\n",
    "    print(\"you can enter\")\n",
    "elif(age==18):\n",
    "    print(\"go see Pink Floyed\")\n",
    "else:\n",
    "    print(\"go see Meat Loaf\")\n",
    "\n",
    "print(\"move on\")\n"
   ]
  },
  {
   "cell_type": "code",
   "execution_count": 82,
   "metadata": {},
   "outputs": [
    {
     "name": "stdout",
     "output_type": "stream",
     "text": [
      "The Album was made in the 70s or 90s\n"
     ]
    }
   ],
   "source": [
    "#Logic Operators\n",
    "#Take boolean values and produce different boolean values \n",
    "#use or to produce different boolean values\n",
    "\n",
    "album_year=1990\n",
    "\n",
    "if(album_year<1980) or (album_year>1989):\n",
    "    print(\"The Album was made in the 70s or 90s\")\n",
    "else:\n",
    "    print(\"The Album was made in the 80s\")\n",
    "    "
   ]
  },
  {
   "cell_type": "code",
   "execution_count": 83,
   "metadata": {},
   "outputs": [
    {
     "name": "stdout",
     "output_type": "stream",
     "text": [
      "This album was made in the 80s\n"
     ]
    }
   ],
   "source": [
    "#Logic Operator AND takes in 2 values and produces new boolean values\n",
    "\n",
    "album_year = 1983\n",
    "\n",
    "if(album_year>1979) and (album_year<1990):\n",
    "    print(\"This album was made in the 80s\")"
   ]
  },
  {
   "cell_type": "code",
   "execution_count": 90,
   "metadata": {},
   "outputs": [
    {
     "name": "stdout",
     "output_type": "stream",
     "text": [
      "This car most likely has HID Lights\n"
     ]
    }
   ],
   "source": [
    "#practice logic operator OR\n",
    "\n",
    "car_year = 2010\n",
    "\n",
    "if(car_year < 2014) or (car_year > 2008):\n",
    "    print(\"This car most likely has HID Lights\")\n",
    "else:\n",
    "    print(\"This car most likely very old or very new\")\n",
    "   "
   ]
  },
  {
   "cell_type": "code",
   "execution_count": 99,
   "metadata": {},
   "outputs": [
    {
     "name": "stdout",
     "output_type": "stream",
     "text": [
      "This is a shitty car\n"
     ]
    }
   ],
   "source": [
    "#practice logic operator AND\n",
    "\n",
    "car_year = 2019\n",
    "\n",
    "if(car_year>2018) and (car_year==2020):\n",
    "    print(\"This is the best car around\")\n",
    "else:\n",
    "    print(\"This is a shitty car\")"
   ]
  },
  {
   "cell_type": "code",
   "execution_count": 4,
   "metadata": {},
   "outputs": [
    {
     "name": "stdout",
     "output_type": "stream",
     "text": [
      "Too risky\n"
     ]
    }
   ],
   "source": [
    "#practice comparing\n",
    "\n",
    "    \n",
    "stock = 120\n",
    "\n",
    "if (stock > 50) and (stock < 100):\n",
    "    print(\"Alert: Buy this stock now!\")\n",
    "else:\n",
    "    print (\"Too risky\")\n",
    "\n",
    "\n",
    "    "
   ]
  },
  {
   "cell_type": "code",
   "execution_count": 10,
   "metadata": {},
   "outputs": [
    {
     "name": "stdout",
     "output_type": "stream",
     "text": [
      "<class 'tuple'>\n",
      "<class 'tuple'>\n",
      "<class 'tuple'>\n"
     ]
    }
   ],
   "source": [
    "#practice tuples, lists, sets, dictionaries\n",
    "\n",
    "\n",
    "#tuple practice\n",
    "#create tuples for empolyee name, hours workded, money made ($)\n",
    "\n",
    "em_1 = (\"Sarah\", 30, 250.34)\n",
    "em_2 = (\"Moe\", 22, 201.45)\n",
    "em_3 = (\"Devin\", 55, 700.76)\n",
    "\n",
    "#confrim type of variable\n",
    "\n",
    "print(type(em_1))\n",
    "print(type(em_2))\n",
    "print(type(em_3))"
   ]
  },
  {
   "cell_type": "code",
   "execution_count": 18,
   "metadata": {},
   "outputs": [
    {
     "name": "stdout",
     "output_type": "stream",
     "text": [
      "250.34\n"
     ]
    }
   ],
   "source": [
    "#practice finding indexes in tuples\n",
    "#find index # for 250\n",
    "\n",
    "print(em_1[2])"
   ]
  },
  {
   "cell_type": "code",
   "execution_count": 11,
   "metadata": {},
   "outputs": [
    {
     "name": "stdout",
     "output_type": "stream",
     "text": [
      "<class 'list'>\n",
      "<class 'list'>\n",
      "<class 'list'>\n",
      "<class 'list'>\n"
     ]
    }
   ],
   "source": [
    "#lists practice\n",
    "#create a list with employee full name, postion, how many years worked\n",
    "#and employee satisfaction rate (rate 1-10, 10 being the best)\n",
    "\n",
    "aai_em1 = [\"Ahmed Mahmoud\",\"CEO\",6,9.5]\n",
    "aai_em2 = [\"Michael Jackson\",\"Managing Director PE\",1,9.0 ]\n",
    "aai_em3 = [\"Chirs Churchill\",\"Managing Director IT\",1, 9.0]\n",
    "aai_em4 = [\"Mike Ryan\",\"International IR\",1,9.0]\n",
    "\n",
    "#confirm type of variable\n",
    "\n",
    "print(type(aai_em1))\n",
    "print(type(aai_em2))\n",
    "print(type(aai_em3))\n",
    "print(type(aai_em4))"
   ]
  },
  {
   "cell_type": "code",
   "execution_count": 19,
   "metadata": {},
   "outputs": [
    {
     "data": {
      "text/plain": [
       "4"
      ]
     },
     "execution_count": 19,
     "metadata": {},
     "output_type": "execute_result"
    }
   ],
   "source": [
    "#practice finding indexs in lists\n",
    "\n",
    "#find len of list aai_em2\n",
    "\n",
    "len(aai_em2)"
   ]
  },
  {
   "cell_type": "code",
   "execution_count": 21,
   "metadata": {},
   "outputs": [
    {
     "name": "stdout",
     "output_type": "stream",
     "text": [
      "['Greg Gordon', 'Managing Director PE', 1, 9.0]\n"
     ]
    }
   ],
   "source": [
    "#change the name in aai_em2 and confrim change\n",
    "\n",
    "aai_em2[0] = \"Greg Gordon\"\n",
    "\n",
    "print(aai_em2)\n",
    "\n"
   ]
  },
  {
   "cell_type": "code",
   "execution_count": 27,
   "metadata": {},
   "outputs": [
    {
     "data": {
      "text/plain": [
       "['Greg', 'Gordon']"
      ]
     },
     "execution_count": 27,
     "metadata": {},
     "output_type": "execute_result"
    }
   ],
   "source": [
    "#split Greg Gordon\n",
    "\n",
    "\"Greg Gordon\".split()\n"
   ]
  },
  {
   "cell_type": "code",
   "execution_count": 28,
   "metadata": {},
   "outputs": [
    {
     "data": {
      "text/plain": [
       "1"
      ]
     },
     "execution_count": 28,
     "metadata": {},
     "output_type": "execute_result"
    }
   ],
   "source": [
    "#find index number aai_em4\n",
    "\n",
    "aai_em4.index(\"International IR\")"
   ]
  },
  {
   "cell_type": "code",
   "execution_count": 31,
   "metadata": {},
   "outputs": [
    {
     "name": "stdout",
     "output_type": "stream",
     "text": [
      "['Ahmed Mahmoud', 'CEO', 6, 9.5, 'Access Code', 2020]\n"
     ]
    }
   ],
   "source": [
    "#add another list to aai_em1\n",
    "\n",
    "aai_boss = aai_em1 + [\"Access Code\", 2020]\n",
    "\n",
    "#confrim addtion of list\n",
    "\n",
    "print(aai_boss)"
   ]
  },
  {
   "cell_type": "code",
   "execution_count": 36,
   "metadata": {},
   "outputs": [
    {
     "name": "stdout",
     "output_type": "stream",
     "text": [
      "{'Panaromic sunroof', 'Black', 'Phantom', 2020}\n"
     ]
    }
   ],
   "source": [
    "#create perfect rolls royce combitnation using a set\n",
    "\n",
    "phant_1 = {2020,\"Phantom\",\"EWB\",\"Black\",\"Red seats\", \"Shades\", \"Panaromic sunroof\", \"Black Wheels\"}\n",
    "phant_2 = {2020,\"Phantom\",\"Black\",\"EWB\",\"Panaromic sunroof\", \"Red Seats\"}\n",
    "phant_3 = {2020,\"Phantom\",\"Black\",\"Panaromic sunroof\", \"Red Seats\"}\n",
    "phant_4 = {2020,\"Phantom\",\"Black\",\"EWB\",\"Panaromic sunroof\",\"Red Seats\"}\n",
    "\n",
    "perfect_car = phant_1 & phant_2 & phant_3\n",
    "\n",
    "print(perfect_car)\n"
   ]
  },
  {
   "cell_type": "code",
   "execution_count": 37,
   "metadata": {},
   "outputs": [
    {
     "data": {
      "text/plain": [
       "False"
      ]
     },
     "execution_count": 37,
     "metadata": {},
     "output_type": "execute_result"
    }
   ],
   "source": [
    "#review test\n",
    "\n",
    "i = 0\n",
    "\n",
    "i!=0"
   ]
  },
  {
   "cell_type": "code",
   "execution_count": 38,
   "metadata": {},
   "outputs": [
    {
     "data": {
      "text/plain": [
       "True"
      ]
     },
     "execution_count": 38,
     "metadata": {},
     "output_type": "execute_result"
    }
   ],
   "source": [
    "i = -1\n",
    "\n",
    "i!= 0"
   ]
  },
  {
   "cell_type": "code",
   "execution_count": 49,
   "metadata": {},
   "outputs": [
    {
     "data": {
      "text/plain": [
       "range(10, 15)"
      ]
     },
     "execution_count": 49,
     "metadata": {},
     "output_type": "execute_result"
    }
   ],
   "source": [
    "#Range Function (N)\n",
    "#tuple(range())\n",
    "#list(range())\n",
    "\n",
    "#example\n",
    "\n",
    "range(10,15)"
   ]
  },
  {
   "cell_type": "code",
   "execution_count": 58,
   "metadata": {},
   "outputs": [
    {
     "name": "stdout",
     "output_type": "stream",
     "text": [
      "['white', 'white', 'white', 'white', 'white']\n"
     ]
    }
   ],
   "source": [
    "#Loops perform a task over and over\n",
    "#use list to represent boxes\n",
    "#each element in the list is a string representing color\n",
    "#change every color to white\n",
    "#use .index to change colors = white\n",
    "\n",
    "squares = [\"red\",\"yellow\",\"green\",\"purple\",\"blue\"]\n",
    "\n",
    "for i in range(0,5):\n",
    "    squares[0]=\"white\"\n",
    "    squares[1]=\"white\"\n",
    "    squares[2]=\"white\"\n",
    "    squares[3]=\"white\"\n",
    "    squares[4]=\"white\"\n",
    "\n",
    "print(squares)"
   ]
  },
  {
   "cell_type": "code",
   "execution_count": 60,
   "metadata": {},
   "outputs": [
    {
     "name": "stdout",
     "output_type": "stream",
     "text": [
      "0 left\n",
      "1 right\n",
      "2 up\n",
      "3 down\n"
     ]
    }
   ],
   "source": [
    "#enumrate() can be used for iterating data\n",
    "#can be used to obtain element & index # \n",
    "\n",
    "example = [\"left\", \"right\", \"up\", \"down\"]\n",
    "\n",
    "for i, j in enumerate(example):\n",
    "        print(i,j)"
   ]
  },
  {
   "cell_type": "code",
   "execution_count": 67,
   "metadata": {},
   "outputs": [
    {
     "name": "stdout",
     "output_type": "stream",
     "text": [
      "{0: 'left', 1: 'right', 2: 'up', 3: 'down'}\n",
      "0 0\n",
      "1 1\n",
      "2 2\n",
      "3 3\n"
     ]
    },
    {
     "data": {
      "text/plain": [
       "[None, None, None, None]"
      ]
     },
     "execution_count": 67,
     "metadata": {},
     "output_type": "execute_result"
    }
   ],
   "source": [
    "#enurmate into a dictionary\n",
    "\n",
    "new_dict = dict(enumerate(example))\n",
    "\n",
    "print(new_dict)\n",
    "\n",
    "[print(i,j) for i,j in enumerate(new_dict)]\n"
   ]
  },
  {
   "cell_type": "code",
   "execution_count": 76,
   "metadata": {},
   "outputs": [
    {
     "name": "stdout",
     "output_type": "stream",
     "text": [
      "[]\n"
     ]
    }
   ],
   "source": [
    "#while loops are only done when a certian condtion is met\n",
    "\n",
    "squares=[\"orange\",\"orange,\"\"purple\",\"orange\"]\n",
    "\n",
    "Newsquares=[]\n",
    "\n",
    "i=0\n",
    "\n",
    "while(squares[i]==\"orange\"):\n",
    "    Newsquares.append(squares[i])\n",
    "    \n",
    "    i=i+1\n",
    "    \n",
    "print(Newsquares)"
   ]
  },
  {
   "cell_type": "code",
   "execution_count": 78,
   "metadata": {},
   "outputs": [
    {
     "name": "stdout",
     "output_type": "stream",
     "text": [
      "1\n",
      "2\n"
     ]
    }
   ],
   "source": [
    "#review question\n",
    "\n",
    "x=3\n",
    "\n",
    "y=1\n",
    "\n",
    "while(y!=x):\n",
    "    \n",
    "    print(y)\n",
    "    y= y+1\n",
    "    \n"
   ]
  },
  {
   "cell_type": "code",
   "execution_count": 79,
   "metadata": {},
   "outputs": [
    {
     "name": "stdout",
     "output_type": "stream",
     "text": [
      "3\n",
      "4\n",
      "5\n"
     ]
    }
   ],
   "source": [
    "#review question\n",
    "\n",
    "A=[3,4,5]\n",
    "\n",
    "for a in A:\n",
    "    \n",
    "    print(a)"
   ]
  },
  {
   "cell_type": "code",
   "execution_count": 81,
   "metadata": {},
   "outputs": [
    {
     "name": "stdout",
     "output_type": "stream",
     "text": [
      "[1, 2, 3, 4, 5]\n"
     ]
    }
   ],
   "source": [
    "#Lab practice\n",
    "#Use loops to print out elements in A\n",
    "\n",
    "A=[1,2,3,4,5]\n",
    "\n",
    "for i in range(0,6):\n",
    "    \n",
    "    A[0]=1\n",
    "    A[1]=2\n",
    "    A[2]=3\n",
    "    A[3]=4\n",
    "    A[4]=5\n",
    "\n",
    "print(A)"
   ]
  },
  {
   "cell_type": "code",
   "execution_count": 83,
   "metadata": {},
   "outputs": [
    {
     "name": "stdout",
     "output_type": "stream",
     "text": [
      "1\n",
      "2\n",
      "3\n",
      "4\n",
      "5\n",
      "6\n",
      "7\n",
      "8\n",
      "9\n",
      "10\n"
     ]
    }
   ],
   "source": [
    "#Lab practice\n",
    "#Find the value of x that will print squence (1-10)\n",
    "\n",
    "x=11\n",
    "\n",
    "y=1\n",
    "\n",
    "while(y<x):\n",
    "    print(y)\n",
    "    y=y+1"
   ]
  },
  {
   "cell_type": "code",
   "execution_count": 84,
   "metadata": {},
   "outputs": [],
   "source": [
    "#Python functions\n",
    "#functions takes on input then produces output\n",
    "#functions is a pieace of code you use\n",
    "#you can create functions but most of the time you will use someone elses\n",
    "\n",
    "#type of fucntions:\n",
    "#len() - produces length \n",
    "    #ex: L=len(album_ratings)\n",
    "\n",
    "#sum() - produces sum of all elements\n",
    "    #ex: S=sum(album_ratings)\n",
    "\n",
    "#sorted() - genertes new sorted list seperate from album_ratings\n",
    "    #ex: sorted_album_rating = sorted(album_ratings)\n",
    "\n",
    "#sort() - sorts an exisiting list without creating a new list\n",
    "    #ex: album_ratings.sort()"
   ]
  },
  {
   "cell_type": "code",
   "execution_count": 134,
   "metadata": {},
   "outputs": [],
   "source": [
    "#Building your own function\n",
    "#define a function by def\n",
    "\n",
    "def add1(a):\n",
    "    \n",
    "    b=a+1\n",
    "    \n",
    "    return b"
   ]
  },
  {
   "cell_type": "code",
   "execution_count": 136,
   "metadata": {},
   "outputs": [
    {
     "name": "stdout",
     "output_type": "stream",
     "text": [
      "This is incorrect\n"
     ]
    }
   ],
   "source": [
    "def f(a,b):\n",
    "\n",
    "    return\n",
    "\n",
    "a=6\n",
    "b=2\n",
    "\n",
    "if a*b==f(a,b):\n",
    "    print(\"That is correct\")\n",
    "else:\n",
    "    print(\"This is incorrect\")"
   ]
  },
  {
   "cell_type": "code",
   "execution_count": 141,
   "metadata": {},
   "outputs": [
    {
     "name": "stdout",
     "output_type": "stream",
     "text": [
      "That is incorrect\n"
     ]
    }
   ],
   "source": [
    "def g(c):\n",
    "    return\n",
    "\n",
    "c = [1,2,3,4,5]\n",
    "\n",
    "if sum(c)==g(c):\n",
    "    print(\"That is correct\")\n",
    "else:\n",
    "    print(\"That is incorrect\")"
   ]
  },
  {
   "cell_type": "code",
   "execution_count": 90,
   "metadata": {},
   "outputs": [
    {
     "name": "stdout",
     "output_type": "stream",
     "text": [
      "None\n"
     ]
    }
   ],
   "source": [
    "def Nowork():\n",
    "    pass\n",
    "print(Nowork())\n"
   ]
  },
  {
   "cell_type": "code",
   "execution_count": 91,
   "metadata": {},
   "outputs": [
    {
     "name": "stdout",
     "output_type": "stream",
     "text": [
      "Michael Jackson\n"
     ]
    }
   ],
   "source": [
    "def MJ():\n",
    "    print(\"Michael Jackson\")\n",
    "\n",
    "MJ()\n"
   ]
  },
  {
   "cell_type": "code",
   "execution_count": 108,
   "metadata": {},
   "outputs": [
    {
     "name": "stdout",
     "output_type": "stream",
     "text": [
      "Album 0 Rating is 10.0\n",
      "Album 1 Rating is 8.5\n",
      "Album 2 Rating is 9.5\n"
     ]
    }
   ],
   "source": [
    "\n",
    "def printStuff(Stuff):\n",
    "    \n",
    "    for i,s in enumerate(Stuff):\n",
    "        print(\"Album\",i,\"Rating is\",s)\n",
    "\n",
    "album_ratings= [10.0,8.5,9.5]  \n",
    "\n",
    "printStuff(album_ratings)\n",
    "        \n"
   ]
  },
  {
   "cell_type": "code",
   "execution_count": 111,
   "metadata": {},
   "outputs": [
    {
     "name": "stdout",
     "output_type": "stream",
     "text": [
      "Michael Jackson\n",
      "AC/DC\n",
      "Pink Floyed\n"
     ]
    }
   ],
   "source": [
    "#Varadic parameters allows to inputs a variable # of elements\n",
    "\n",
    "def ArtistNames(*names):\n",
    "    \n",
    "    for name in names:\n",
    "        \n",
    "        print(name)\n",
    "\n",
    "ArtistNames(\"Michael Jackson\",\"AC/DC\",\"Pink Floyed\")"
   ]
  },
  {
   "cell_type": "code",
   "execution_count": 122,
   "metadata": {},
   "outputs": [
    {
     "name": "stdout",
     "output_type": "stream",
     "text": [
      "AC\n"
     ]
    }
   ],
   "source": [
    "#Scope of a variable is defined outside any function\n",
    "#are said to be outside global scope\n",
    "#they can be accessed anywhere after they are defined\n",
    "\n",
    "\n",
    "def addDC(y):\n",
    "    y=x+\"DC\"\n",
    "    print(x)\n",
    "    return(x)\n",
    "\n",
    "x=\"AC\"\n",
    "z=addDC(x)\n",
    "\n"
   ]
  },
  {
   "cell_type": "code",
   "execution_count": 125,
   "metadata": {},
   "outputs": [
    {
     "name": "stdout",
     "output_type": "stream",
     "text": [
      "1982\n",
      "2017\n"
     ]
    }
   ],
   "source": [
    "#Scope: Local Variables\n",
    "\n",
    "def Thriller():\n",
    "    Date=1982\n",
    "    return Date\n",
    "\n",
    "#the Global Variable rate is set at 2017\n",
    "\n",
    "Date= 2017\n",
    "\n",
    "#call the function\n",
    "\n",
    "print(Thriller())\n",
    "print(Date)"
   ]
  },
  {
   "cell_type": "code",
   "execution_count": 126,
   "metadata": {},
   "outputs": [
    {
     "name": "stdout",
     "output_type": "stream",
     "text": [
      "9\n",
      "9\n"
     ]
    }
   ],
   "source": [
    "def ACDC(y):\n",
    "    print(Rating)\n",
    "    return(Rating+y)\n",
    "\n",
    "Rating=9\n",
    "\n",
    "Z=ACDC(1)\n",
    "\n",
    "print(Rating)"
   ]
  },
  {
   "cell_type": "code",
   "execution_count": 133,
   "metadata": {},
   "outputs": [
    {
     "name": "stdout",
     "output_type": "stream",
     "text": [
      "45 million\n"
     ]
    }
   ],
   "source": [
    "def PinkFloyd():\n",
    "    global ClamiedSales\n",
    "    ClamiedSales = \"45 million\"\n",
    "    return ClamiedSales\n",
    "\n",
    "print(ClamiedSales)"
   ]
  },
  {
   "cell_type": "code",
   "execution_count": 144,
   "metadata": {},
   "outputs": [
    {
     "name": "stdout",
     "output_type": "stream",
     "text": [
      "11\n"
     ]
    }
   ],
   "source": [
    "#Quiz\n",
    "\n",
    "a=1\n",
    "\n",
    "def add(b):\n",
    "    \n",
    "    return a+b\n",
    "\n",
    "c=add(10)\n",
    "\n",
    "print(c)"
   ]
  },
  {
   "cell_type": "code",
   "execution_count": 145,
   "metadata": {},
   "outputs": [],
   "source": [
    "def f(c):\n",
    "    \n",
    "    return sum(c)"
   ]
  },
  {
   "cell_type": "code",
   "execution_count": 150,
   "metadata": {},
   "outputs": [
    {
     "data": {
      "text/plain": [
       "5"
      ]
     },
     "execution_count": 150,
     "metadata": {},
     "output_type": "execute_result"
    }
   ],
   "source": [
    "#practice functions\n",
    "\n",
    "# a and b calculation block1\n",
    " \n",
    "a1 = 4\n",
    "b1 = 5\n",
    "c1 = a 1 + b1 + 2 * a1 * b1 - 1\n",
    "\n",
    "if(c1 < 0):\n",
    "    c1 = 0\n",
    "else:\n",
    "    c1 = 5\n",
    "\n",
    "#call c1\n",
    "c1"
   ]
  },
  {
   "cell_type": "code",
   "execution_count": 151,
   "metadata": {},
   "outputs": [
    {
     "data": {
      "text/plain": [
       "0"
      ]
     },
     "execution_count": 151,
     "metadata": {},
     "output_type": "execute_result"
    }
   ],
   "source": [
    "# a and b calculation block2\n",
    "\n",
    "a2 = 0\n",
    "b2 = 0\n",
    "c2 = a2 + b2 + 2 * a2 *b2 - 1\n",
    "if(c2 < 0):\n",
    "    c2 = 0\n",
    "else:\n",
    "    c2 = 5\n",
    "    \n",
    "#call c2\n",
    "\n",
    "c2"
   ]
  },
  {
   "cell_type": "code",
   "execution_count": 152,
   "metadata": {},
   "outputs": [],
   "source": [
    "#Make a function for the calculation above\n",
    "\n",
    "def Equation(a,b):\n",
    "    c = a + b + 2 * a * b -1\n",
    "    if(c < 0):\n",
    "        c = 0\n",
    "    else:\n",
    "        c = 5\n",
    "    return(c)"
   ]
  },
  {
   "cell_type": "code",
   "execution_count": 154,
   "metadata": {},
   "outputs": [
    {
     "data": {
      "text/plain": [
       "5"
      ]
     },
     "execution_count": 154,
     "metadata": {},
     "output_type": "execute_result"
    }
   ],
   "source": [
    "#test the function\n",
    "\n",
    "a1 = 5\n",
    "b1 = 10\n",
    "c1 = Equation(a1,b1)\n",
    "\n",
    "#call the function\n",
    "c1"
   ]
  },
  {
   "cell_type": "code",
   "execution_count": 155,
   "metadata": {},
   "outputs": [
    {
     "data": {
      "text/plain": [
       "0"
      ]
     },
     "execution_count": 155,
     "metadata": {},
     "output_type": "execute_result"
    }
   ],
   "source": [
    "#test the function\n",
    "\n",
    "a2 = 0\n",
    "b2 = 0\n",
    "c2 = Equation(a2,b2)\n",
    "\n",
    "#call the function\n",
    "c2"
   ]
  },
  {
   "cell_type": "code",
   "execution_count": 156,
   "metadata": {},
   "outputs": [
    {
     "name": "stdout",
     "output_type": "stream",
     "text": [
      "Michael Jackson Thriller 1980\n",
      "Oldie\n"
     ]
    }
   ],
   "source": [
    "# if/else function examples\n",
    "\n",
    "def type_of_album(artist, album, year_released):\n",
    "    \n",
    "    print(artist, album, year_released)\n",
    "    if year_released > 1980:\n",
    "        return \"Modern\"\n",
    "    else:\n",
    "        return \"Oldie\"\n",
    "    \n",
    "x = type_of_album(\"Michael Jackson\", \"Thriller\", 1980)\n",
    "\n",
    "print(x)"
   ]
  },
  {
   "cell_type": "code",
   "execution_count": 159,
   "metadata": {},
   "outputs": [
    {
     "name": "stdout",
     "output_type": "stream",
     "text": [
      "1\n",
      "1\n",
      "the man\n",
      "abc\n"
     ]
    }
   ],
   "source": [
    "#loop function example\n",
    "\n",
    "def printList(the_list):\n",
    "    for element in the_list:\n",
    "        print(element)\n",
    "\n",
    "#confirm the printList function\n",
    "\n",
    "printList([\"1\", 1,\"the man\",\"abc\"])"
   ]
  },
  {
   "cell_type": "code",
   "execution_count": 161,
   "metadata": {},
   "outputs": [
    {
     "name": "stdout",
     "output_type": "stream",
     "text": [
      "this album suck it's rating is 4\n",
      "this album is good it's rating is 10\n"
     ]
    }
   ],
   "source": [
    "#You can set a default argument for a function\n",
    "\n",
    "#Eample for setting parameters with default calue\n",
    "\n",
    "def isGoodRating(rating=4):\n",
    "    if(rating<7):\n",
    "        print(\"this album suck it's rating is\", rating)\n",
    "    else:\n",
    "        print(\"this album is good it's rating is\", rating)\n",
    "        \n",
    "isGoodRating()\n",
    "isGoodRating(10)"
   ]
  },
  {
   "cell_type": "code",
   "execution_count": 167,
   "metadata": {},
   "outputs": [
    {
     "name": "stdout",
     "output_type": "stream",
     "text": [
      "Michael Jackson is an artist\n"
     ]
    }
   ],
   "source": [
    "#practice creating global variables\n",
    "\n",
    "artist = \"Michael Jackson\"\n",
    "\n",
    "def printer1(artist):\n",
    "    internal_var = artist\n",
    "    print(artist, \"is an artist\")\n",
    "    \n",
    "printer1(artist)"
   ]
  },
  {
   "cell_type": "code",
   "execution_count": 169,
   "metadata": {},
   "outputs": [
    {
     "name": "stdout",
     "output_type": "stream",
     "text": [
      "Michael Jackson is an artist\n",
      "Whitney Houston is an artist\n"
     ]
    }
   ],
   "source": [
    "#creating a global variable within a function \n",
    "#use fucntion global\n",
    "\n",
    "artist = \"Michael Jackson\"\n",
    "\n",
    "def printer(artist):\n",
    "    global internal_var\n",
    "    internal_var = \"Whitney Houston\"\n",
    "    print(artist,\"is an artist\")\n",
    "    \n",
    "printer(artist)\n",
    "printer(internal_var)"
   ]
  },
  {
   "cell_type": "code",
   "execution_count": 171,
   "metadata": {},
   "outputs": [
    {
     "name": "stdout",
     "output_type": "stream",
     "text": [
      "AC/DC's rating is: 10.0\n",
      "Deep Purple's rating is: 0.0\n",
      "My favorite band is: AC/DC\n"
     ]
    }
   ],
   "source": [
    "#practice scopes of variables \n",
    "#example of a global variable\n",
    "\n",
    "myFavoriteBand = \"AC/DC\" #global\n",
    "\n",
    "def getBandRating(bandname):\n",
    "    if bandname == myFavoriteBand:\n",
    "        return 10.0\n",
    "    else:\n",
    "        return 0.0\n",
    "\n",
    "print(\"AC/DC's rating is:\", getBandRating(\"AC/DC\"))\n",
    "print(\"Deep Purple's rating is:\", getBandRating(\"Deep Purple\"))\n",
    "print(\"My favorite band is:\", myFavoriteBand)\n",
    "    "
   ]
  },
  {
   "cell_type": "code",
   "execution_count": 173,
   "metadata": {},
   "outputs": [
    {
     "name": "stdout",
     "output_type": "stream",
     "text": [
      "AC/DC's rating is: 10.0\n",
      "Deep Purple's rating is: 0.0\n",
      "My favorite band is: AC/DC\n"
     ]
    }
   ],
   "source": [
    "#example of a local variable\n",
    "\n",
    "def getBandRating(bandname):\n",
    "    myFavoriteBand =\"AC/DC\" #local\n",
    "    if bandname == myFavoriteBand:\n",
    "        return 10.0\n",
    "    else:\n",
    "        return 0.0\n",
    "    \n",
    "print(\"AC/DC's rating is:\", getBandRating(\"AC/DC\"))\n",
    "print(\"Deep Purple's rating is:\", getBandRating(\"Deep Purple\"))\n",
    "print(\"My favorite band is:\", myFavoriteBand)\n",
    "    "
   ]
  },
  {
   "cell_type": "code",
   "execution_count": 174,
   "metadata": {},
   "outputs": [
    {
     "name": "stdout",
     "output_type": "stream",
     "text": [
      "AC/DC's rating is: 0.0\n",
      "Deep Purple's rating is: 10.0\n",
      "My favorite band is: AC/DC\n"
     ]
    }
   ],
   "source": [
    "#Example of a global and local variable with the same name\n",
    "\n",
    "myFavoriteBand=\"AC/DC\"\n",
    "\n",
    "def getBandRating(bandname):\n",
    "    myFavoriteBand = \"Deep Purple\"\n",
    "    if bandname == myFavoriteBand:\n",
    "        return 10.0\n",
    "    else:\n",
    "        return 0.0\n",
    "\n",
    "print(\"AC/DC's rating is:\", getBandRating(\"AC/DC\"))\n",
    "print(\"Deep Purple's rating is:\", getBandRating(\"Deep Purple\"))\n",
    "print(\"My favorite band is:\", myFavoriteBand)"
   ]
  },
  {
   "cell_type": "code",
   "execution_count": null,
   "metadata": {},
   "outputs": [],
   "source": []
  }
 ],
 "metadata": {
  "kernelspec": {
   "display_name": "Python 3.6 (tensorflow)",
   "language": "python",
   "name": "tensorflow"
  },
  "language_info": {
   "codemirror_mode": {
    "name": "ipython",
    "version": 3
   },
   "file_extension": ".py",
   "mimetype": "text/x-python",
   "name": "python",
   "nbconvert_exporter": "python",
   "pygments_lexer": "ipython3",
   "version": "3.6.9"
  }
 },
 "nbformat": 4,
 "nbformat_minor": 2
}
